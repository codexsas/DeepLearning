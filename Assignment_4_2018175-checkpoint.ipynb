{
 "cells": [
  {
   "cell_type": "markdown",
   "metadata": {
    "id": "j6_DLRhh7zXA"
   },
   "source": [
    "# Assignment 4 - Hyperparameters\n",
    "\n",
    "\n",
    "#### Reg No.: 2018175"
   ]
  },
  {
   "cell_type": "markdown",
   "metadata": {
    "id": "EyusByDc74A0"
   },
   "source": [
    "### Task Explanation"
   ]
  },
  {
   "cell_type": "markdown",
   "metadata": {
    "id": "NEDxZ7d875RE"
   },
   "source": [
    "In this assignment, we will see how changes in the neural network architecture and the hyperparameters can have an effect on how the network performs \n",
    "\n",
    "Wheat rust is a devastating plant disease that affects many crops, reducing yields and affecting the livelihoods of farmers and decreasing food security across the continent. The disease is difficult to monitor at a large scale, making it difficult to control and eradicate.\n",
    "\n",
    "The objective of this challenge is to see how small changes in the model architecture and the hyperparameters can have an effect on the final results. You are required to add screenshots of the results (the accuracy, history and loss graphs and the confusion matrix) with the changes you made in the architecture and the hyperparameters in a pdf file, and submit it along with the code.\n",
    "\n",
    "ALL THE CODE HAS ALREADY BEEN WRITTEN FOR YOU. YOU ARE ONLY REQUIRED TO MAKE CHANGES IN THE CODE WHERE IT IS ASKED OF YOU"
   ]
  },
  {
   "cell_type": "markdown",
   "metadata": {
    "id": "gi0LGVvZ8For"
   },
   "source": [
    "### Let's Start"
   ]
  },
  {
   "cell_type": "markdown",
   "metadata": {
    "id": "XTzuPmgx8HBc"
   },
   "source": [
    "Make necessary imports here e.g. import cv2, import glob, etc"
   ]
  },
  {
   "cell_type": "code",
   "execution_count": 3,
   "metadata": {
    "id": "j63bSz-_7qG_"
   },
   "outputs": [],
   "source": [
    "import cv2\n",
    "import glob\n",
    "import numpy as np\n",
    "import matplotlib.pyplot as plt\n",
    "from tensorflow.keras.layers import Dense, Conv2D, Dropout, BatchNormalization, Input, LeakyReLU, Flatten, Dropout, ReLU\n",
    "from tensorflow.keras.optimizers import Adam\n",
    "from tensorflow.keras import Model\n",
    "from sklearn.metrics import confusion_matrix\n",
    "import pandas as pd\n",
    "import seaborn as sns\n",
    "import keras\n",
    "import random\n",
    "from keras.datasets import mnist\n",
    "# any other imports that you may require"
   ]
  },
  {
   "cell_type": "markdown",
   "metadata": {
    "id": "Sjo9fKM98Mh8"
   },
   "source": [
    "### Hyperparameters"
   ]
  },
  {
   "cell_type": "markdown",
   "metadata": {
    "id": "_duJq-FH86Mu"
   },
   "source": [
    "CHANGE THESE ONLY WHEN YOU ARE ASKED TO LATER ON IN THE ASSIGNMENT"
   ]
  },
  {
   "cell_type": "code",
   "execution_count": null,
   "metadata": {
    "id": "_hV3BwFQ8Pwl"
   },
   "outputs": [],
   "source": [
    "batch_size = 32\n",
    "epochs = 10\n",
    "learning_rate = 0.0001\n",
    "input_shape = (256,256,3)"
   ]
  },
  {
   "cell_type": "markdown",
   "metadata": {
    "id": "DnIcmW5R8WH_"
   },
   "source": [
    "### Data"
   ]
  },
  {
   "cell_type": "markdown",
   "metadata": {
    "id": "UzDuqfJT8XVN"
   },
   "source": [
    "MAKE NO CHANGES IN THIS PART"
   ]
  },
  {
   "cell_type": "code",
   "execution_count": 5,
   "metadata": {},
   "outputs": [],
   "source": [
    "# !pip install GitPython"
   ]
  },
  {
   "cell_type": "code",
   "execution_count": 6,
   "metadata": {
    "id": "5f8zmUug8TGD"
   },
   "outputs": [],
   "source": [
    "#!git clone https://github.com/MMFa666/WheatDiseaseDataset.git"
   ]
  },
  {
   "cell_type": "code",
   "execution_count": 11,
   "metadata": {
    "id": "MKdAUxVj8fop"
   },
   "outputs": [
    {
     "name": "stdout",
     "output_type": "stream",
     "text": [
      "43\n",
      "43\n"
     ]
    }
   ],
   "source": [
    "O = 'Users/MES/Downloads/Dataset/Dataset/Train/O'\n",
    "X = 'Users/MES/Downloads/Dataset/Dataset/Train/X'\n",
    "#stem_rust = './WheatDiseaseDataset/train/stem_rust'\n",
    "O_files = glob.glob(O + '/*.jpg')\n",
    "X_files = glob.glob(X + '/*.jpg')\n",
    "#stem_rust_files = glob.glob(stem_rust + '/*.jpg')\n",
    "print(len(O))\n",
    "print(len(X))\n",
    "#print(len(stem_rust_files))"
   ]
  },
  {
   "cell_type": "code",
   "execution_count": 12,
   "metadata": {
    "id": "Vm-3N94D8hiH"
   },
   "outputs": [
    {
     "data": {
      "text/plain": [
       "81"
      ]
     },
     "execution_count": 12,
     "metadata": {},
     "output_type": "execute_result"
    }
   ],
   "source": [
    "train_dir = './Dataset/Dataset/Train'\n",
    "train_files = glob.glob(train_dir + '/*/*.jpg')\n",
    "len(train_files)"
   ]
  },
  {
   "cell_type": "code",
   "execution_count": 24,
   "metadata": {
    "id": "eWXz_BYn8lGM"
   },
   "outputs": [
    {
     "data": {
      "text/plain": [
       "'O'"
      ]
     },
     "execution_count": 24,
     "metadata": {},
     "output_type": "execute_result"
    }
   ],
   "source": [
    "x = train_files[0].split('/')\n",
    "x = x[3].split('\\\\')\n",
    "x[1]"
   ]
  },
  {
   "cell_type": "code",
   "execution_count": 25,
   "metadata": {
    "id": "h8wbdodb8n2O"
   },
   "outputs": [
    {
     "data": {
      "text/plain": [
       "14"
      ]
     },
     "execution_count": 25,
     "metadata": {},
     "output_type": "execute_result"
    }
   ],
   "source": [
    "test_dir = './Dataset/Dataset/Test'\n",
    "test_files = glob.glob(test_dir + '/*/*.jpg')\n",
    "len(test_files)"
   ]
  },
  {
   "cell_type": "markdown",
   "metadata": {
    "id": "nImqz6ME8sYc"
   },
   "source": [
    "### Labels"
   ]
  },
  {
   "cell_type": "markdown",
   "metadata": {
    "id": "br8DmE5o8vXH"
   },
   "source": [
    "MAKE NO CHANGES IN THIS PART"
   ]
  },
  {
   "cell_type": "code",
   "execution_count": 26,
   "metadata": {
    "id": "Y-39MpVH8q6j"
   },
   "outputs": [],
   "source": [
    "labels={}\n",
    "labels['O'] = 0\n",
    "labels['X'] = 1\n",
    "#labels['stem_rust'] = 2"
   ]
  },
  {
   "cell_type": "markdown",
   "metadata": {
    "id": "vYahBSJp80_e"
   },
   "source": [
    "### Preprocessing"
   ]
  },
  {
   "cell_type": "markdown",
   "metadata": {
    "id": "y3xcUZ979gRt"
   },
   "source": [
    "MAKE NO CHANGES IN THIS PART"
   ]
  },
  {
   "cell_type": "code",
   "execution_count": 27,
   "metadata": {
    "id": "kYOOSV6I827u"
   },
   "outputs": [],
   "source": [
    "def preprocessing_norm(images):\n",
    "    return images/255.0"
   ]
  },
  {
   "cell_type": "markdown",
   "metadata": {
    "id": "V70tMYZk9ixs"
   },
   "source": [
    "### Batch Generator"
   ]
  },
  {
   "cell_type": "markdown",
   "metadata": {
    "id": "71wiqtN19nNw"
   },
   "source": [
    "MAKE NO CHANGES IN THIS PART"
   ]
  },
  {
   "cell_type": "code",
   "execution_count": 28,
   "metadata": {
    "id": "hF1woJ9S9kzO"
   },
   "outputs": [],
   "source": [
    "def parse_path(filename):\n",
    "  one_hot = [0,0,0]\n",
    "  x = filename.split('/')\n",
    "  x = x[3].split('\\\\')\n",
    "  lab = x[1]\n",
    "  label = labels[lab]\n",
    "  one_hot[label] = one_hot[label] + 1\n",
    "  return one_hot\n",
    "\n",
    "def get_image(filename):\n",
    "  img = cv2.cvtColor(cv2.imread(filename), cv2.COLOR_BGR2RGB)\n",
    "  image = cv2.resize(img, (256,256))\n",
    "  return image\n",
    "\n",
    "def data_generator(data, batch_size):\n",
    "  total_size = len(data)\n",
    "  indexes = np.arange(0, total_size, batch_size)\n",
    "  if total_size % batch_size != 0:\n",
    "    indexes = indexes[:-1]  \n",
    "  while True:\n",
    "    np.random.shuffle(indexes)\n",
    "    for index in indexes:\n",
    "      batch_paths = data[index:index+batch_size]\n",
    "      batch_x = np.array([get_image(path) for path in batch_paths])\n",
    "      batch_y = np.array([parse_path(path) for path in batch_paths])\n",
    "      #batch_x = preprocessing_norm(batch_x)\n",
    "      yield batch_x, batch_y"
   ]
  },
  {
   "cell_type": "markdown",
   "metadata": {
    "id": "PtJRcEt4-LiN"
   },
   "source": [
    "Initialize train data generator"
   ]
  },
  {
   "cell_type": "code",
   "execution_count": 29,
   "metadata": {
    "id": "HzqBr75E-MTk"
   },
   "outputs": [],
   "source": [
    "data = data_generator(train_files, batch_size)"
   ]
  },
  {
   "cell_type": "markdown",
   "metadata": {
    "id": "7la8cZaP-Odx"
   },
   "source": [
    "### Training"
   ]
  },
  {
   "cell_type": "markdown",
   "metadata": {
    "id": "55PhKZ77-UKU"
   },
   "source": [
    "THE BASE MODEL HAS ALREADY BEEN BUILT FOR YOU. INITIALIZE AND COMPILE THIS MODEL AND SAVE THE SCREENSHOTS OF THE RESULTS IN THE PDF. \n",
    "\n",
    "YOU WILL BE MAKING THE CHANGES TO THE ARCHITECTURE IN THIS CELL (SPECIFIED LATER IN THE ASSIGNMENT)"
   ]
  },
  {
   "cell_type": "code",
   "execution_count": 30,
   "metadata": {
    "id": "pBVwuwMe-QZD"
   },
   "outputs": [],
   "source": [
    "input_img = Input(shape=(input_shape))\n",
    "l = Conv2D(256, kernel_size=(5,5),strides=(2,2))(input_img)\n",
    "l = BatchNormalization()(l)\n",
    "l = LeakyReLU()(l)\n",
    "l = Dropout(0.2)(l)\n",
    "l = Conv2D(128, kernel_size=(3,3),strides=(2,2))(l)\n",
    "l = BatchNormalization()(l)\n",
    "l = LeakyReLU()(l)\n",
    "l = Dropout(0.2)(l)\n",
    "l = Conv2D(64, kernel_size=(3,3),strides=(2,2))(l)\n",
    "l = BatchNormalization()(l)\n",
    "l = LeakyReLU()(l)\n",
    "l = Dropout(0.2)(l)\n",
    "l = Conv2D(32, kernel_size=(3,3),strides=(2,2))(l)\n",
    "l = BatchNormalization()(l)\n",
    "l = LeakyReLU()(l)\n",
    "l = Dropout(0.2)(l)\n",
    "l = Conv2D(16, kernel_size=(3,3),strides=(2,2))(l)\n",
    "l = BatchNormalization()(l)\n",
    "l = LeakyReLU()(l)\n",
    "l = Dropout(0.2)(l)\n",
    "l = Flatten()(l)\n",
    "l = Dense(128)(l)\n",
    "l = LeakyReLU()(l)\n",
    "l = Dropout(0.2)(l)\n",
    "l = Dense(32)(l)\n",
    "l = LeakyReLU()(l)\n",
    "l = Dropout(0.2)(l)\n",
    "output_class = Dense(3, activation='softmax')(l)\n",
    "\n",
    "model_initial = Model(inputs=input_img, outputs=output_class)"
   ]
  },
  {
   "cell_type": "code",
   "execution_count": 31,
   "metadata": {
    "id": "c_xFicXS-e4T"
   },
   "outputs": [
    {
     "name": "stdout",
     "output_type": "stream",
     "text": [
      "Model: \"model\"\n",
      "_________________________________________________________________\n",
      "Layer (type)                 Output Shape              Param #   \n",
      "=================================================================\n",
      "input_1 (InputLayer)         [(None, 256, 256, 3)]     0         \n",
      "_________________________________________________________________\n",
      "conv2d (Conv2D)              (None, 126, 126, 256)     19456     \n",
      "_________________________________________________________________\n",
      "batch_normalization (BatchNo (None, 126, 126, 256)     1024      \n",
      "_________________________________________________________________\n",
      "leaky_re_lu (LeakyReLU)      (None, 126, 126, 256)     0         \n",
      "_________________________________________________________________\n",
      "dropout (Dropout)            (None, 126, 126, 256)     0         \n",
      "_________________________________________________________________\n",
      "conv2d_1 (Conv2D)            (None, 62, 62, 128)       295040    \n",
      "_________________________________________________________________\n",
      "batch_normalization_1 (Batch (None, 62, 62, 128)       512       \n",
      "_________________________________________________________________\n",
      "leaky_re_lu_1 (LeakyReLU)    (None, 62, 62, 128)       0         \n",
      "_________________________________________________________________\n",
      "dropout_1 (Dropout)          (None, 62, 62, 128)       0         \n",
      "_________________________________________________________________\n",
      "conv2d_2 (Conv2D)            (None, 30, 30, 64)        73792     \n",
      "_________________________________________________________________\n",
      "batch_normalization_2 (Batch (None, 30, 30, 64)        256       \n",
      "_________________________________________________________________\n",
      "leaky_re_lu_2 (LeakyReLU)    (None, 30, 30, 64)        0         \n",
      "_________________________________________________________________\n",
      "dropout_2 (Dropout)          (None, 30, 30, 64)        0         \n",
      "_________________________________________________________________\n",
      "conv2d_3 (Conv2D)            (None, 14, 14, 32)        18464     \n",
      "_________________________________________________________________\n",
      "batch_normalization_3 (Batch (None, 14, 14, 32)        128       \n",
      "_________________________________________________________________\n",
      "leaky_re_lu_3 (LeakyReLU)    (None, 14, 14, 32)        0         \n",
      "_________________________________________________________________\n",
      "dropout_3 (Dropout)          (None, 14, 14, 32)        0         \n",
      "_________________________________________________________________\n",
      "conv2d_4 (Conv2D)            (None, 6, 6, 16)          4624      \n",
      "_________________________________________________________________\n",
      "batch_normalization_4 (Batch (None, 6, 6, 16)          64        \n",
      "_________________________________________________________________\n",
      "leaky_re_lu_4 (LeakyReLU)    (None, 6, 6, 16)          0         \n",
      "_________________________________________________________________\n",
      "dropout_4 (Dropout)          (None, 6, 6, 16)          0         \n",
      "_________________________________________________________________\n",
      "flatten (Flatten)            (None, 576)               0         \n",
      "_________________________________________________________________\n",
      "dense (Dense)                (None, 128)               73856     \n",
      "_________________________________________________________________\n",
      "leaky_re_lu_5 (LeakyReLU)    (None, 128)               0         \n",
      "_________________________________________________________________\n",
      "dropout_5 (Dropout)          (None, 128)               0         \n",
      "_________________________________________________________________\n",
      "dense_1 (Dense)              (None, 32)                4128      \n",
      "_________________________________________________________________\n",
      "leaky_re_lu_6 (LeakyReLU)    (None, 32)                0         \n",
      "_________________________________________________________________\n",
      "dropout_6 (Dropout)          (None, 32)                0         \n",
      "_________________________________________________________________\n",
      "dense_2 (Dense)              (None, 3)                 99        \n",
      "=================================================================\n",
      "Total params: 491,443\n",
      "Trainable params: 490,451\n",
      "Non-trainable params: 992\n",
      "_________________________________________________________________\n"
     ]
    }
   ],
   "source": [
    "#print model summary here\n",
    "model_initial.summary()"
   ]
  },
  {
   "cell_type": "code",
   "execution_count": 33,
   "metadata": {
    "id": "srUZeknV-jVc"
   },
   "outputs": [],
   "source": [
    "adam = Adam(learning_rate)\n",
    "model_initial.compile(loss='categorical_crossentropy', \n",
    "              optimizer=adam, \n",
    "              metrics=['accuracy'])"
   ]
  },
  {
   "cell_type": "code",
   "execution_count": null,
   "metadata": {
    "id": "TIaC5Jfb-mvU"
   },
   "outputs": [
    {
     "name": "stdout",
     "output_type": "stream",
     "text": [
      "Epoch 1/30\n",
      " 2/21 [=>............................] - ETA: 3:04 - loss: 1.0550 - accuracy: 0.4062"
     ]
    }
   ],
   "source": [
    "hist = model_initial.fit(data, batch_size = batch_size, epochs=epochs, steps_per_epoch=21)"
   ]
  },
  {
   "cell_type": "markdown",
   "metadata": {
    "id": "ziyg6ag0-pnl"
   },
   "source": [
    "Plot the loss and accuracy graphs of training. "
   ]
  },
  {
   "cell_type": "code",
   "execution_count": 162,
   "metadata": {
    "id": "Q0DCzHGm-qUb"
   },
   "outputs": [
    {
     "data": {
      "text/plain": [
       "[<matplotlib.lines.Line2D at 0x226c4751af0>]"
      ]
     },
     "execution_count": 162,
     "metadata": {},
     "output_type": "execute_result"
    },
    {
     "data": {
      "image/png": "[encoded data removed]",
      "text/plain": [
       "<Figure size 432x288 with 1 Axes>"
      ]
     },
     "metadata": {},
     "output_type": "display_data"
    }
   ],
   "source": [
    "# Loss Plot\n",
    "plt.plot(hist.history['loss'])"
   ]
  },
  {
   "cell_type": "code",
   "execution_count": 163,
   "metadata": {
    "id": "xU8tm7c6-uQf"
   },
   "outputs": [
    {
     "data": {
      "text/plain": [
       "[<matplotlib.lines.Line2D at 0x226c949ceb0>]"
      ]
     },
     "execution_count": 163,
     "metadata": {},
     "output_type": "execute_result"
    },
    {
     "data": {
      "image/png": "[encoded data removed]",
      "text/plain": [
       "<Figure size 432x288 with 1 Axes>"
      ]
     },
     "metadata": {},
     "output_type": "display_data"
    }
   ],
   "source": [
    "# Accuracy Plot\n",
    "plt.plot(hist.history['accuracy'])"
   ]
  },
  {
   "cell_type": "markdown",
   "metadata": {
    "id": "xAME5E_q-yKM"
   },
   "source": [
    "### Evaluation"
   ]
  },
  {
   "cell_type": "markdown",
   "metadata": {
    "id": "np3mhYYa-18t"
   },
   "source": [
    "Now, we will evaluate our model on the test data."
   ]
  },
  {
   "cell_type": "code",
   "execution_count": 164,
   "metadata": {
    "id": "J4NDIc7X-w01"
   },
   "outputs": [],
   "source": [
    "test_data = data_generator(test_files, 177)"
   ]
  },
  {
   "cell_type": "code",
   "execution_count": 165,
   "metadata": {
    "id": "9Ii-kih2-5Xt"
   },
   "outputs": [],
   "source": [
    "predictions = model_initial.predict(next(test_data)[0])"
   ]
  },
  {
   "cell_type": "code",
   "execution_count": 166,
   "metadata": {
    "id": "lghMxLgC-7AE"
   },
   "outputs": [],
   "source": [
    "pred = []\n",
    "truth = []\n",
    "for prediction in predictions:\n",
    "  pred.append(np.argmax(prediction))\n",
    "for true in next(test_data)[1]:\n",
    "  truth.append(np.argmax(true))"
   ]
  },
  {
   "cell_type": "markdown",
   "metadata": {
    "id": "_YerdbR1--rU"
   },
   "source": [
    "Calculate and print accuracy."
   ]
  },
  {
   "cell_type": "code",
   "execution_count": 167,
   "metadata": {
    "id": "Ao0Nlv1X-9jM"
   },
   "outputs": [
    {
     "name": "stdout",
     "output_type": "stream",
     "text": [
      "Accuracy = 60.451977401129945\n"
     ]
    }
   ],
   "source": [
    "true = 0\n",
    "total = len(pred)\n",
    "for i in range(total):\n",
    "  if pred[i] == truth[i]:\n",
    "    true = true + 1\n",
    "print(\"Accuracy =\", (true/total)*100)"
   ]
  },
  {
   "cell_type": "markdown",
   "metadata": {
    "id": "gVcW9UXD_DLN"
   },
   "source": [
    "Calculate and print Confusion Matrix. "
   ]
  },
  {
   "cell_type": "code",
   "execution_count": 176,
   "metadata": {
    "id": "T-YbU_KW_FFb"
   },
   "outputs": [
    {
     "name": "stdout",
     "output_type": "stream",
     "text": [
      "[[ 4 11 14]\n",
      " [ 1 50 21]\n",
      " [ 0 23 53]]\n"
     ]
    }
   ],
   "source": [
    "conf_mat = confusion_matrix(truth, pred)\n",
    "print (conf_mat)"
   ]
  },
  {
   "cell_type": "code",
   "execution_count": 177,
   "metadata": {
    "id": "fxoKWR_k_SRt"
   },
   "outputs": [],
   "source": [
    "def plot_confusion_matrix(conf_mat):\n",
    "    classes = list(labels.keys())\n",
    "    df_cm = pd.DataFrame(conf_mat,classes,classes)\n",
    "    plt.figure(figsize=(10,7))\n",
    "    sns.set(font_scale=1.4)\n",
    "    sns.heatmap(df_cm, annot=True,annot_kws={\"size\": 16})\n",
    "    plt.show()"
   ]
  },
  {
   "cell_type": "markdown",
   "metadata": {
    "id": "9w7a2UdCWJ3Q"
   },
   "source": [
    "Use the above function to plot confusion matrix here."
   ]
  },
  {
   "cell_type": "code",
   "execution_count": 178,
   "metadata": {
    "id": "d1Y6KPEW_b5b"
   },
   "outputs": [
    {
     "data": {
      "image/png": "[encoded data removed]",
      "text/plain": [
       "<Figure size 720x504 with 2 Axes>"
      ]
     },
     "metadata": {},
     "output_type": "display_data"
    }
   ],
   "source": [
    "plot_confusion_matrix(conf_mat)"
   ]
  },
  {
   "cell_type": "markdown",
   "metadata": {
    "id": "m29EU7mZVrD3"
   },
   "source": [
    "### Changes to be made\n"
   ]
  },
  {
   "cell_type": "markdown",
   "metadata": {
    "id": "SxetUutBW9Px"
   },
   "source": [
    "Now that you've successfuly ran and gotten the results for the model that we built for you, make the following changes (one by one), and see how they effect the performance and the results of the model. In total, you will have the results of 5 different experiments (including those of the network already built for you)\n",
    "\n",
    "SCREENSHOT ALL THE RESULTS (INCLUDING THOSE FOR THE MODEL WE BUILT FOR YOU) AND ADD THEM TO A PDF. \n",
    "\n",
    "Change #1: Change the learning rate to 0.01. <br>\n",
    "Change #2: Change the epochs to 50 (make sure to change the learning rate back to 0.0001) <br>\n",
    "Change #3: Change the Leaky ReLU activation to ReLU (make sure to use 30 epochs and a learning rate of 0.0001) <br>\n",
    "Change #4: Increase the depth of the neural network by adding another convolutional layer (followed by the batch normalization layer, the leaky ReLU activation layer, and the dropout layer). This new piece of code will be added right before the convolution layer with the filter size of 32 in the architecture (line 14). The code to be added is as follows:     \n",
    "```\n",
    "l = Conv2D(64, kernel_size=(3,3),strides=(2,2))(l) \n",
    "l = BatchNormalization()(l) \n",
    "l = LeakyReLU()(l) \n",
    "l = Dropout(0.2)(l) \n",
    "```\n",
    "Again, this is to be added in the 14th line, i.e, between the following two lines of code in the architecture:     \n",
    "```\n",
    "l = Dropout(0.2)(l)\n",
    "l = Conv2D(32, kernel_size=(3,3),strides=(2,2))(l)\n",
    "```\n",
    "You will notice that this is the exact layer collection as the previous layer. Make sure to change all the ReLU layers back to Leaky ReLU and keep the epochs at 30 and the learning rate at 0.0001 for a controlled experiment\n"
   ]
  },
  {
   "cell_type": "markdown",
   "metadata": {
    "id": "2QeB-aefW64T"
   },
   "source": [
    "### Questions (You might need to do research)\n",
    "\n",
    "1) How did changing the learning rate impact your results? Why? \n",
    "\n",
    "\n",
    "2) How did changing the number of epochs impact your results? Why? \n",
    "\n",
    "\n",
    "3) How did changing the leaky relu function to a normal relu function impact your results? Why?\n",
    "\n",
    "4) How did adding a new layer group impact your results? Why?\n",
    "\n",
    "4) The batch normalization and the dropout layers act like regularization layers. Theoretically, what would happen if all these regularization layers are removed?\n",
    "\n",
    "5) What is class imbalance? Is there class imbalance in this problem? Why or why not?"
   ]
  }
 ],
 "metadata": {
  "colab": {
   "collapsed_sections": [],
   "name": "Assignment 4.ipynb",
   "provenance": []
  },
  "kernelspec": {
   "display_name": "Python 3",
   "language": "python",
   "name": "python3"
  },
  "language_info": {
   "codemirror_mode": {
    "name": "ipython",
    "version": 3
   },
   "file_extension": ".py",
   "mimetype": "text/x-python",
   "name": "python",
   "nbconvert_exporter": "python",
   "pygments_lexer": "ipython3",
   "version": "3.8.8"
  }
 },
 "nbformat": 4,
 "nbformat_minor": 4
}
